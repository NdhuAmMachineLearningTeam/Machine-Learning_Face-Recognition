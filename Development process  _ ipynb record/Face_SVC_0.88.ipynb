{
 "cells": [
  {
   "cell_type": "code",
   "execution_count": 49,
   "metadata": {},
   "outputs": [],
   "source": [
    "import numpy as np\n",
    "import matplotlib.pyplot as plt\n",
    "import matplotlib.image as mpimg\n",
    "import os\n",
    "import cv2\n",
    "from sklearn.decomposition import PCA\n",
    "from sklearn.neural_network import MLPClassifier\n",
    "\n",
    "PATH = \"C:/Users/Mr-Fish/Desktop/Face/\"\n",
    "PATH2 = \"C:/Users/Mr-Fish/Desktop/test/\"\n",
    "X_train = []; y_train = []; X_test = []; y_test = [];\n",
    "for file in os.listdir(PATH):\n",
    "    img = mpimg.imread(PATH + file)\n",
    "    img_gray = cv2.cvtColor(img, cv2.COLOR_BGR2GRAY)\n",
    "    X_train.append(img_gray)\n",
    "    label = int(file[1:3])\n",
    "    y_train.append(label)\n",
    "    \n",
    "for i in range(550):\n",
    "    tem = cv2.resize(X_train[i],(213,311),interpolation=cv2.INTER_CUBIC)\n",
    "    X_train[i] = tem.reshape(-1)\n",
    "    \n",
    "X_train = np.array(X_train)\n",
    "y_train = np.array(y_train)\n",
    "\n",
    "for file in os.listdir(PATH2):\n",
    "    img = mpimg.imread(PATH2 + file)\n",
    "    img_gray = cv2.cvtColor(img, cv2.COLOR_BGR2GRAY)\n",
    "    X_test.append(img_gray)\n",
    "    label = int(file[1:3])\n",
    "    y_test.append(label)\n",
    "    \n",
    "for i in range(100):\n",
    "    tem = cv2.resize(X_test[i],(213,311),interpolation=cv2.INTER_CUBIC)\n",
    "    X_test[i] = tem.reshape(-1)\n",
    "    \n",
    "X_test = np.array(X_test)\n",
    "y_test = np.array(y_test)\n",
    "\n",
    "pca = PCA(n_components=0.97 , svd_solver='full')\n",
    "newX_train = pca.fit_transform(X_train)\n",
    "newX_test = pca.transform(X_test)"
   ]
  },
  {
   "cell_type": "code",
   "execution_count": 50,
   "metadata": {},
   "outputs": [
    {
     "name": "stdout",
     "output_type": "stream",
     "text": [
      "1.0\n",
      "0.88\n",
      "279 ms ± 0 ns per loop (mean ± std. dev. of 1 run, 1 loop each)\n"
     ]
    }
   ],
   "source": [
    "%%timeit -n 1 -r 1\n",
    "from sklearn.svm import SVC\n",
    "clf = SVC( kernel = 'linear')\n",
    "clf.fit(newX_train, y_train)\n",
    "print(np.mean(clf.predict(newX_train) == y_train))\n",
    "print(np.mean(clf.predict(newX_test) == y_test))"
   ]
  },
  {
   "cell_type": "code",
   "execution_count": 51,
   "metadata": {},
   "outputs": [
    {
     "name": "stdout",
     "output_type": "stream",
     "text": [
      "1.0\n",
      "0.86\n",
      "58.5 s ± 0 ns per loop (mean ± std. dev. of 1 run, 1 loop each)\n"
     ]
    }
   ],
   "source": [
    "%%timeit -n 1 -r 1\n",
    "from sklearn.svm import SVC\n",
    "clf = SVC(kernel = 'linear')\n",
    "clf.fit(X_train, y_train)\n",
    "print(np.mean(clf.predict(X_train) == y_train))\n",
    "print(np.mean(clf.predict(X_test) == y_test))"
   ]
  },
  {
   "cell_type": "code",
   "execution_count": null,
   "metadata": {},
   "outputs": [],
   "source": []
  }
 ],
 "metadata": {
  "kernelspec": {
   "display_name": "Python 3",
   "language": "python",
   "name": "python3"
  },
  "language_info": {
   "codemirror_mode": {
    "name": "ipython",
    "version": 3
   },
   "file_extension": ".py",
   "mimetype": "text/x-python",
   "name": "python",
   "nbconvert_exporter": "python",
   "pygments_lexer": "ipython3",
   "version": "3.6.4"
  }
 },
 "nbformat": 4,
 "nbformat_minor": 2
}
